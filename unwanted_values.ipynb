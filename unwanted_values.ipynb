{
 "cells": [
  {
   "cell_type": "code",
   "execution_count": 4,
   "metadata": {},
   "outputs": [
    {
     "name": "stdout",
     "output_type": "stream",
     "text": [
      "[20.565 17.497 18.869 ... 29.77  29.654 29.73 ] [17.561 18.608 18.051 ... 30.485 29.837 32.955] [ 3.0040e+00 -1.1110e+00  8.1800e-01 ... -6.7000e-02 -7.0345e+01\n",
      " -3.2250e+00]\n"
     ]
    }
   ],
   "source": [
    "import numpy as np\n",
    "import numpy.ma as ma\n",
    "\n",
    "file_411_336_475 = np.loadtxt('inner_411_336_475_1.2_cmd') \n",
    "# inner_411_336_475_1.2_cmd contains the values including 99.999 which I don't want in my data file\n",
    "\n",
    "A = file_411_336_475[:,0] # Choosing the first column\n",
    "B = file_411_336_475[:,1]\n",
    "C = file_411_336_475[:,2]\n",
    "\n",
    "mask_1 = np.where(A != 99.999) # Using the masking technique in numpy, instruct to exclude the value 99.999\n",
    "mask_2 = np.where(B != 99.999)\n",
    "mask_3 = np.where(C != 99.999)\n",
    "\n",
    "AA = A[mask_1] #File-A will be without 99.999\n",
    "BB = B[mask_2] #File-B will be without 99.999\n",
    "CC = C[mask_3] #File-C will be without 99.999\n",
    "\n",
    "print(AA,BB,CC)\n",
    "#print(len(A), len(B), len(C))\n",
    "#print(len(AA), len(BB), len(CC))\n",
    "#np.savetxt('inner_text', X, fmt='%0.3f')\n"
   ]
  },
  {
   "cell_type": "code",
   "execution_count": 23,
   "metadata": {},
   "outputs": [],
   "source": []
  },
  {
   "cell_type": "code",
   "execution_count": null,
   "metadata": {},
   "outputs": [],
   "source": []
  }
 ],
 "metadata": {
  "kernelspec": {
   "display_name": "Python 3",
   "language": "python",
   "name": "python3"
  },
  "language_info": {
   "codemirror_mode": {
    "name": "ipython",
    "version": 3
   },
   "file_extension": ".py",
   "mimetype": "text/x-python",
   "name": "python",
   "nbconvert_exporter": "python",
   "pygments_lexer": "ipython3",
   "version": "3.7.4"
  }
 },
 "nbformat": 4,
 "nbformat_minor": 2
}
